{
 "cells": [
  {
   "cell_type": "markdown",
   "metadata": {},
   "source": [
    "Nombre: Marcel Parada Villamizar        \n",
    "Codigo: 1007407019\n",
    "\n",
    "\n",
    "Haciendo la derivada de la f(x)=x(x-1)\n",
    "\n",
    "La funcion se puede escribir igualmente\n",
    "f(x) = x²-x\n",
    "\n",
    "Utilizando la formula para la derivada\n",
    "f(x) =lim δ→0 (f(x+δ)-f(x))/δ\n",
    "\n",
    "Llegaremos a la siguiente expresion\n",
    "\n",
    "f(x) = lim δ→0 (2x-1+δ)\n",
    "\n",
    "Teniendo en cuenta que δ va a ser igual a {10⁻², 10⁻⁴, 10⁻⁶, 10⁻⁸, 10⁻¹⁰, 10⁻¹², 10⁻¹⁴} \n"
   ]
  },
  {
   "cell_type": "code",
   "execution_count": 77,
   "metadata": {},
   "outputs": [
    {
     "name": "stdout",
     "output_type": "stream",
     "text": [
      "x**2 - x\n"
     ]
    }
   ],
   "source": [
    "from sympy import Symbol #Expresion para mostrar la funcion\n",
    "x=Symbol('x')\n",
    "fx=x**2-x\n",
    "print(fx)"
   ]
  },
  {
   "cell_type": "code",
   "execution_count": 78,
   "metadata": {},
   "outputs": [
    {
     "name": "stdout",
     "output_type": "stream",
     "text": [
      "Lista Resultante del calculo en Python\n",
      "[1.0099999999999998, 1.0001000000000002, 1.0000010000000001, 1.00000001, 1.0000000001, 1.000000000001, 1.0000000000000102]\n",
      "Lista Resultante del calculo Analitico\n",
      "[1.01, 1.0001, 1.000001, 1.00000001, 1, 1, 1]\n",
      "Lista Error porcentual\n",
      "[2.1984614349013e-14, 2.2202240268476282e-14, 2.2204438288064846e-14, 0.0, 1.000000082740371e-08, 1.000088900582341e-10, 1.021405182655144e-12]\n"
     ]
    }
   ],
   "source": [
    " def funcion():\n",
    "    A=[1e-2, 1e-4, 1e-6, 1e-8, 1e-10, 1e-12, 1e-14]  #Lista de los valores δ\n",
    "    B=[1.01, 1.0001, 1.000001, 1.00000001, 1, 1 , 1] #Lista de los valores Analiticos \n",
    "    C=[]    #Lista que llenara los valores computacionales \n",
    "    D=[]    #Lista que llenara el porcentaje de error entre el Analitico y el Computacional\n",
    "    for i in A:\n",
    "        x=1\n",
    "        fi=i+2*x-1\n",
    "        C.append(fi)\n",
    "    print(\"Lista Resultante del calculo en Python\")\n",
    "    print(C)\n",
    "    print(\"Lista Resultante del calculo Analitico\")\n",
    "    print(B)\n",
    "    for j in range(0,7):     #Se realiza la operacion para el porcentaje de error y lo llena en una lista\n",
    "        D.append(abs((B[j]-C[j])/B[j])*100)\n",
    "    print(\"Lista Error porcentual\")\n",
    "    print(D)\n",
    "funcion()\n",
    "\n",
    "\n",
    "\n"
   ]
  },
  {
   "cell_type": "code",
   "execution_count": null,
   "metadata": {},
   "outputs": [],
   "source": []
  },
  {
   "cell_type": "code",
   "execution_count": null,
   "metadata": {},
   "outputs": [],
   "source": []
  }
 ],
 "metadata": {
  "kernelspec": {
   "display_name": "Python 3",
   "language": "python",
   "name": "python3"
  },
  "language_info": {
   "codemirror_mode": {
    "name": "ipython",
    "version": 3
   },
   "file_extension": ".py",
   "mimetype": "text/x-python",
   "name": "python",
   "nbconvert_exporter": "python",
   "pygments_lexer": "ipython3",
   "version": "3.7.3"
  }
 },
 "nbformat": 4,
 "nbformat_minor": 2
}
